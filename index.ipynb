{
 "cells": [
  {
   "cell_type": "markdown",
   "metadata": {},
   "source": [
    "# Folium - Codealong\n",
    "\n",
    "## Introduction \n",
    "\n",
    "In this codealong, we'll take a look at how to create an interactive map using the Folium package. From there, we'll return to APIs in the final lab for the day where you'll make an interactive map from your requests to the API!\n",
    "\n",
    "## Objectives\n",
    "\n",
    "You will be able to: \n",
    "* Create maps with Folium"
   ]
  },
  {
   "cell_type": "markdown",
   "metadata": {},
   "source": [
    "## Creating a Basemap\n",
    "\n",
    "Here we'll take a look at creating a basemap over the London region!"
   ]
  },
  {
   "cell_type": "code",
   "execution_count": 1,
   "metadata": {
    "scrolled": false
   },
   "outputs": [
    {
     "data": {
      "text/html": [
       "<div style=\"width:100%;\"><div style=\"position:relative;width:100%;height:0;padding-bottom:60%;\"><iframe src=\"data:text/html;charset=utf-8;base64,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\" style=\"position:absolute;width:100%;height:100%;left:0;top:0;border:none !important;\" allowfullscreen webkitallowfullscreen mozallowfullscreen></iframe></div></div>"
      ],
      "text/plain": [
       "<folium.folium.Map at 0x7f93cc0c5c18>"
      ]
     },
     "execution_count": 1,
     "metadata": {},
     "output_type": "execute_result"
    }
   ],
   "source": [
    "import folium\n",
    "\n",
    "lat = 51.51\n",
    "long = -0.14\n",
    "\n",
    "#Create a map of the area\n",
    "base_map = folium.Map([lat, long], zoom_start=13)\n",
    "base_map"
   ]
  },
  {
   "cell_type": "markdown",
   "metadata": {},
   "source": [
    "## Adding Markers to the Map\n",
    "\n",
    "Great! Now let's take a look at adding little markers to our map!\n",
    "\n",
    "**Note:** you may have to zoom out to see all of the markers!"
   ]
  },
  {
   "cell_type": "code",
   "execution_count": 2,
   "metadata": {},
   "outputs": [
    {
     "data": {
      "text/html": [
       "<div style=\"width:100%;\"><div style=\"position:relative;width:100%;height:0;padding-bottom:60%;\"><iframe src=\"data:text/html;charset=utf-8;base64,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\" style=\"position:absolute;width:100%;height:100%;left:0;top:0;border:none !important;\" allowfullscreen webkitallowfullscreen mozallowfullscreen></iframe></div></div>"
      ],
      "text/plain": [
       "<folium.folium.Map at 0x7f93cc0c5c18>"
      ]
     },
     "execution_count": 2,
     "metadata": {},
     "output_type": "execute_result"
    }
   ],
   "source": [
    "import numpy as np\n",
    "\n",
    "#Generate some random locations to add to our map\n",
    "x = [lat + np.random.uniform(-.1,.1) for i in range(20)]\n",
    "y = [long + np.random.uniform(-.1,.1) for i in range(20)]\n",
    "points = list(zip(x, y))\n",
    "for p in points:\n",
    "    lat = p[0]\n",
    "    long = p[1]\n",
    "    marker = folium.Marker(location=[lat, long])\n",
    "    marker.add_to(base_map)\n",
    "base_map"
   ]
  },
  {
   "cell_type": "markdown",
   "metadata": {},
   "source": [
    "## Adding Pop-up Boxes to Our Markers\n",
    "\n",
    "Often we may wish to not only place markers on the map, but to create interactive pop-ups which display information to that location. To do this, we can add a popup to our markers when adding them to the map! "
   ]
  },
  {
   "cell_type": "code",
   "execution_count": null,
   "metadata": {},
   "outputs": [],
   "source": [
    "for p in points:\n",
    "    lat = p[0]\n",
    "    long = p[1]\n",
    "    popup_text = \"Latitude: {}, Longitude: {}\".format(lat,long)\n",
    "    popup = folium.Popup(popup_text, parse_html=True)\n",
    "    marker = folium.Marker(location=[lat, long], popup=popup)\n",
    "    marker.add_to(base_map)\n",
    "base_map"
   ]
  },
  {
   "cell_type": "markdown",
   "metadata": {},
   "source": [
    "Now, if you click on the map markers, you should see a little information box pop up!\n",
    "\n",
    "## Summary \n",
    "\n",
    "In this codealong, we learned how to use Folium to create some cool interactive maps with only a few lines of python code! In the next lab, you'll synthesize your skills for the day together and create an interactive visualization map for data you retrieve from the Yelp API!"
   ]
  }
 ],
 "metadata": {
  "kernelspec": {
   "display_name": "Python 3",
   "language": "python",
   "name": "python3"
  },
  "language_info": {
   "codemirror_mode": {
    "name": "ipython",
    "version": 3
   },
   "file_extension": ".py",
   "mimetype": "text/x-python",
   "name": "python",
   "nbconvert_exporter": "python",
   "pygments_lexer": "ipython3",
   "version": "3.6.6"
  }
 },
 "nbformat": 4,
 "nbformat_minor": 2
}
